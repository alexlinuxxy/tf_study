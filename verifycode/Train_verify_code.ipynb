{
 "cells": [
  {
   "cell_type": "code",
   "execution_count": null,
   "metadata": {
    "collapsed": false
   },
   "outputs": [],
   "source": [
    "import os\n",
    "import tensorflow as tf\n",
    "from nets import alexnet\n",
    "import numpy as np"
   ]
  },
  {
   "cell_type": "code",
   "execution_count": 2,
   "metadata": {
    "collapsed": true
   },
   "outputs": [],
   "source": [
    "# tfrecord读取\n",
    "def read_and_decode(file):\n",
    "    # create a read queue\n",
    "    queue = tf.train.string_input_producer([file])\n",
    "    reader = tf.TFRecordReader()\n",
    "    # return filename and content\n",
    "    _, serialized_example = reader.read(queue)\n",
    "    # get features\n",
    "    features = tf.parse_single_example(serialized_example, features={\n",
    "            'image': tf.FixedLenFeature([], tf.string),\n",
    "            'label0': tf.FixedLenFeature([], tf.int64),\n",
    "            'label1': tf.FixedLenFeature([], tf.int64),\n",
    "            'label2': tf.FixedLenFeature([], tf.int64),\n",
    "            'label3': tf.FixedLenFeature([], tf.int64)\n",
    "        })\n",
    "    # decode image data\n",
    "    image = tf.decode_raw(features['image'], tf.uint8)\n",
    "    image = tf.reshape(image, [224, 224])\n",
    "    # preprocessing of image, image = [-1, 1]\n",
    "    image = tf.cast(image, tf.float32)\n",
    "    image = tf.subtract(image, 0.5)\n",
    "    image = tf.multiply(image, 2.0)\n",
    "    # get labels\n",
    "    label0 = tf.cast(features['label0'], tf.int32)\n",
    "    label1 = tf.cast(features['label1'], tf.int32)\n",
    "    label2 = tf.cast(features['label2'], tf.int32)\n",
    "    label3 = tf.cast(features['label3'], tf.int32)\n",
    "    \n",
    "    return image, label0, label1, label2, label3"
   ]
  },
  {
   "cell_type": "code",
   "execution_count": 3,
   "metadata": {
    "collapsed": false
   },
   "outputs": [],
   "source": [
    "tfrecord_file = 'captcha\\tfrecord\\Verify_image_train_00001-of-00001.tfrecord'\n",
    "\n",
    "x = tf.placeholder(tf.float32, [None, 224, 224])\n",
    "y0 = tf.placeholder(tf.float32, [None])\n",
    "y1 = tf.placeholder(tf.float32, [None])\n",
    "y2 = tf.placeholder(tf.float32, [None])\n",
    "y3 = tf.placeholder(tf.float32, [None])\n",
    "\n",
    "image, label0, label1, label2, label3 = read_and_decode(tfrecord_file)"
   ]
  },
  {
   "cell_type": "code",
   "execution_count": null,
   "metadata": {
    "collapsed": false
   },
   "outputs": [],
   "source": [
    "# shuffle and batch form queue\n",
    "image_batch, label0_batch, label1_batch, label2_batch, label3_batch = tf.train.shuffle_batch(\n",
    "[image, label0, label1, label2, label3], batch_size=5, capacity=50000, min_after_dequeue=10000, num_threads=1)\n",
    "\n",
    "X = tf.reshape()\n",
    "with tf.arg_scope(alexnet.alexnet_v2_arg_scope()):\n",
    "    outputs, end_points = alexnet.alexnet_v2(inputs)\n",
    "with tf.Session() as sess:\n",
    "    sess.run(tf.global_variables_initializer())\n",
    "    print(sess.run(label1))"
   ]
  },
  {
   "cell_type": "code",
   "execution_count": null,
   "metadata": {
    "collapsed": true
   },
   "outputs": [],
   "source": []
  }
 ],
 "metadata": {
  "anaconda-cloud": {},
  "kernelspec": {
   "display_name": "Python [default]",
   "language": "python",
   "name": "python3"
  },
  "language_info": {
   "codemirror_mode": {
    "name": "ipython",
    "version": 3
   },
   "file_extension": ".py",
   "mimetype": "text/x-python",
   "name": "python",
   "nbconvert_exporter": "python",
   "pygments_lexer": "ipython3",
   "version": "3.5.2"
  }
 },
 "nbformat": 4,
 "nbformat_minor": 1
}

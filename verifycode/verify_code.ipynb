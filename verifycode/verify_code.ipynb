{
 "cells": [
  {
   "cell_type": "code",
   "execution_count": 28,
   "metadata": {
    "collapsed": true
   },
   "outputs": [],
   "source": [
    "import random\n",
    "from captcha.image import ImageCaptcha\n",
    "from PIL import Image\n",
    "import numpy as np\n",
    "import sys\n",
    "import os\n",
    "import tensorflow as tf"
   ]
  },
  {
   "cell_type": "code",
   "execution_count": 38,
   "metadata": {
    "collapsed": true
   },
   "outputs": [],
   "source": [
    "def gen_random_text(src, text_len=4):\n",
    "    text = []\n",
    "    for _ in range(text_len):\n",
    "        text.append(random.choice(src))\n",
    "    text = ''.join(text)\n",
    "    return text\n",
    "\n",
    "\n",
    "def gen_verify_code(char_set, output_dir):\n",
    "    image = ImageCaptcha()\n",
    "    rand_text = gen_random_text(char_set)\n",
    "    captcha = image.generate(rand_text)\n",
    "    image.write(rand_text, os.path.join(output_dir, rand_text + '.jpg'))\n",
    "    \n",
    "\n",
    "def bytes_feature(values):\n",
    "    return tf.train.Feature(bytes_list=tf.train.BytesList(value=[values]))\n",
    "\n",
    "\n",
    "def int64_feature(values):\n",
    "    if not isinstance(values, (tuple, list)):\n",
    "        values = [values]\n",
    "    return tf.train.Feature(int64_list=tf.train.Int64List(value=values))\n",
    "\n",
    "\n",
    "def image_to_tfexample(image_data, label0, label1, label2, label3):\n",
    "    return tf.train.Example(features=tf.train.Features(feature={\n",
    "                'image': bytes_feature(image_data),\n",
    "                'label0': int64_feature(label0),\n",
    "                'label1': int64_feature(label1),\n",
    "                'label2': int64_feature(label2),\n",
    "                'label3': int64_feature(label3)\n",
    "            }))\n",
    "    \n",
    "\n",
    "def tfrecord_pack(type, files, output_dir, shard=False, shard_size=5000):\n",
    "    assert type in ['train', 'test']\n",
    "    \n",
    "    nr_images = len(files)\n",
    "    if shard == True:\n",
    "        nr_shards = (nr_images + shard_size - 1) // shard_size\n",
    "    else:\n",
    "        nr_shards = 1\n",
    "        shard_size = nr_images\n",
    "    \n",
    "    for shard in range(nr_shards):\n",
    "        # output\n",
    "        output = 'Verify_image_%s_%02d-of-%02d.tfrecord' % (type, shard + 1, nr_shards)\n",
    "        output = os.path.join(output_dir, output)\n",
    "        \n",
    "        with tf.python_io.TFRecordWriter(output) as writer:\n",
    "            # start and end index of a shard\n",
    "            start_idx = shard * shard_size\n",
    "            end_idx = min((shard + 1) * shard_size, nr_images)\n",
    "\n",
    "            for i in range(start_idx, end_idx):\n",
    "                try:\n",
    "                    sys.stdout.write('\\r>> Converting image %d/%d shard %d' % (i + 1, nr_images, shard))\n",
    "                    sys.stdout.flush()\n",
    "                    \n",
    "                    image_data = Image.open(files[i])\n",
    "                    image_data = image_data.resize((224, 224))\n",
    "                    image_data = np.array(image_data.convert('L'))\n",
    "                    image_data = image_data.tobytes()\n",
    "                    \n",
    "                    verify_code = os.path.basename(files[i])[0:4]\n",
    "                    labels = [ int(c) for c in verify_code ]\n",
    "\n",
    "                    tfexample = image_to_tfexample(image_data, labels[0], labels[1], labels[2], labels[3])\n",
    "                    writer.write(tfexample.SerializeToString())\n",
    "                except IOError as e:\n",
    "                    print('Error: skip it')\n",
    "        \n",
    "        sys.stdout.write('\\t[Done]\\n')\n",
    "        sys.stdout.flush()"
   ]
  },
  {
   "cell_type": "code",
   "execution_count": 40,
   "metadata": {
    "collapsed": false
   },
   "outputs": [
    {
     "name": "stdout",
     "output_type": "stream",
     "text": [
      "Existing verify code images.\n",
      "Converting train images to TFRecord format...\n",
      ">> Converting image 6564/6564 shard 0\t\t\t[Done]\n",
      "Done.\n",
      "Converting test images to TFRecord format...\n",
      ">> Converting image 2813/2813 shard 0\t\t\t[Done]\n",
      "Done.\n"
     ]
    }
   ],
   "source": [
    "digits = ['0', '1', '2', '3', '4', '5', '6', '7', '8', '9']\n",
    "images_dir = 'captcha/images'\n",
    "tfrecord_dir = 'captcha/tfrecord'\n",
    "epoch = 10000\n",
    "test_rate = .3\n",
    "\n",
    "if not os.path.exists(images_dir):\n",
    "    os.makedirs(images_dir)\n",
    "    print('Generating verify code images...')\n",
    "    sys.stdout.flush()\n",
    "    for i in range(epoch):\n",
    "        sys.stdout.write('\\r>>Generating verify code image %d/%d' % (i + 1, epoch))\n",
    "        sys.stdout.flush()\n",
    "        try:\n",
    "            gen_verify_code(digits, images_dir)\n",
    "        except:\n",
    "            print('Error: Generate image. Skip it.')\n",
    "    sys.stdout.write('\\t\\t[Done]\\n')\n",
    "    sys.stdout.flush()\n",
    "else:\n",
    "    print('Existing verify code images.')\n",
    "\n",
    "if not os.path.exists(tfrecord_dir):\n",
    "    os.makedirs(tfrecord_dir)\n",
    "    files = os.listdir(images_dir)\n",
    "    images_filepath = [ os.path.join(images_dir, f) for f in files ]\n",
    "    \n",
    "    nr_test_images = int(len(images_filepath) * 0.3)\n",
    "    random.shuffle(images_filepath)\n",
    "    train_images = images_filepath[nr_test_images:]\n",
    "    test_images = images_filepath[:nr_test_images]\n",
    "\n",
    "    print('Converting train images to TFRecord format...')\n",
    "    tfrecord_pack('train', train_images, tfrecord_dir)\n",
    "    print('Converting test images to TFRecord format...')\n",
    "    tfrecord_pack('test', test_images, tfrecord_dir)\n",
    "else:\n",
    "    print('Existing TFRecord files.')"
   ]
  },
  {
   "cell_type": "code",
   "execution_count": null,
   "metadata": {
    "collapsed": true
   },
   "outputs": [],
   "source": []
  },
  {
   "cell_type": "code",
   "execution_count": null,
   "metadata": {
    "collapsed": true
   },
   "outputs": [],
   "source": []
  }
 ],
 "metadata": {
  "anaconda-cloud": {},
  "kernelspec": {
   "display_name": "Python [default]",
   "language": "python",
   "name": "python3"
  },
  "language_info": {
   "codemirror_mode": {
    "name": "ipython",
    "version": 3
   },
   "file_extension": ".py",
   "mimetype": "text/x-python",
   "name": "python",
   "nbconvert_exporter": "python",
   "pygments_lexer": "ipython3",
   "version": "3.5.2"
  }
 },
 "nbformat": 4,
 "nbformat_minor": 1
}
